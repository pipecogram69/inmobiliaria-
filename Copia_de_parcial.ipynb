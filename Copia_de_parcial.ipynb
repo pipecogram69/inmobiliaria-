{
  "nbformat": 4,
  "nbformat_minor": 0,
  "metadata": {
    "colab": {
      "provenance": [],
      "include_colab_link": true
    },
    "kernelspec": {
      "name": "python3",
      "display_name": "Python 3"
    },
    "language_info": {
      "name": "python"
    }
  },
  "cells": [
    {
      "cell_type": "markdown",
      "metadata": {
        "id": "view-in-github",
        "colab_type": "text"
      },
      "source": [
        "<a href=\"https://colab.research.google.com/github/pipecogram69/inmobiliaria-/blob/main/Copia_de_parcial.ipynb\" target=\"_parent\"><img src=\"https://colab.research.google.com/assets/colab-badge.svg\" alt=\"Open In Colab\"/></a>"
      ]
    },
    {
      "cell_type": "code",
      "source": [
        "#Elaborado por Julian Felipe Cortes-Andres Felipe Ortegon\n",
        "#1.- Deberá emplear las herramientas de Diseño, Bases de Datos y Desarrollo que\n",
        "#están trabajando en sus actividades como estudiante en el programa de\n",
        "#Ingeniería de Sistemas.\n",
        "#2.- Este trabajo deberá establecer y listar las Calificaciones de treinta (30)\n",
        "#Estudiantes de una Asignatura, Teniendo en cuenta que hay cuatro notas\n",
        "#Investigación, Taller, Quiz y Parcial. Se debe registrar por cada Estudiante El\n",
        "#Código (Identificación), Nombre, Notas Parciales y Nota definitiva.\n",
        "#3.- Se deben registrar y listar las Cuatro Calificaciones por cada Estudiante,\n",
        "#Investigación, Taller, Quiz y Parcial, generando un promedio por estudiante y\n",
        "#establecer, una clasificación de la nota definitiva de mayor a menor, (de la\n",
        "#nota promedio) con el Código, Nombre, Notas y Nota promedio.\n",
        "#4.- Se debe listar el número Total de Estudiantes con la Calificación definitiva, con\n",
        "#el Código, Nombre y Notas, y generar la nota promedio del curso.\n",
        "#5.- Se debe listar los diez (10) primeros Estudiantes con la Calificación más alta\n",
        "#clasificada de mayor a menor con el Código, Nombre y la Calificación definitiva.\n",
        "#6.- Se debe listar los cinco (5) últimos Estudiantes con la Nota más baja clasificada\n",
        "#de menor a mayor con el Código, Nombre y la Calificación definitiva.\n",
        "#7.- Se debe generar y listar el total de estudiantes que aprobaron y los que no\n",
        "#aprobaron la asignatura con el Código, Nombre y la Calificación definitiva.\n",
        "#8.- Se debe generar Estadísticas y porcentajes por cada requerimiento establecido\n",
        "#9.- Se debe generar Graficas con los porcentajes de cada requerimiento y\n",
        "#distinguidas con diferentes estilos y colores con el fin de visualizar lo\n",
        "#solicitado.\n",
        "\n",
        "#Condiciones y Requerimientos del trabajo a realizar."
      ],
      "metadata": {
        "id": "4DLNbI8lfYM4"
      },
      "execution_count": null,
      "outputs": []
    },
    {
      "cell_type": "code",
      "source": [
        "#importacion de el guardado de documento\n",
        "from google.colab import files\n",
        "from google.colab import drive\n",
        "\n",
        "drive .mount('/content/drive')\n"
      ],
      "metadata": {
        "id": "CMMSKdcRbYEu"
      },
      "execution_count": null,
      "outputs": []
    },
    {
      "cell_type": "code",
      "execution_count": null,
      "metadata": {
        "id": "-vCgzqbKavlJ"
      },
      "outputs": [],
      "source": [
        "#importacion de librerias\n",
        "import pandas as pd\n",
        "import numpy as np\n",
        "import xlrd\n",
        "import seaborn as sb\n",
        "import seaborn as sns\n",
        "import matplotlib.pyplot as plt\n",
        "from matplotlib.ticker import PercentFormatter\n"
      ]
    },
    {
      "cell_type": "code",
      "source": [
        "#lectura de documento basse de datos\n",
        "import pandas as pd\n",
        "df=pd.read_excel(\"/content/lista_de_estudiantes (1).xlsx\")\n",
        "df.shape"
      ],
      "metadata": {
        "id": "Od0h2eIDb6EN"
      },
      "execution_count": null,
      "outputs": []
    },
    {
      "cell_type": "code",
      "source": [
        "#tipo de datos\n",
        "df.dtypes\n",
        "print ('\\nLos datos son de tipo: \\n',df.dtypes)\n"
      ],
      "metadata": {
        "id": "0qpUs9yzcUTZ"
      },
      "execution_count": null,
      "outputs": []
    },
    {
      "cell_type": "code",
      "source": [
        "#calificaciones alumnos\n",
        "notas=pd.DataFrame(df,columns =['CODIGO','NOMBRE','NOTAS PARCIALES','NOTAS DEFINITIVAS'])\n",
        "notas.head(30)"
      ],
      "metadata": {
        "id": "Q4Czsl4YdWQJ"
      },
      "execution_count": null,
      "outputs": []
    },
    {
      "cell_type": "code",
      "source": [
        "# nota definitiva de mayor a menor notas estudiantes con su respectivo promedio\n",
        "\n",
        "df_promedio = df.sort_values(by='NOTAS PARCIALES', ascending=False)\n",
        "promedio=pd.DataFrame(df_promedio,columns=['CODIGO','NOMBRE','INVESTIGACION','TALLER','QUIZ','PARCIAL','NOTAS PARCIALES'])\n",
        "promedio.head(30)\n"
      ],
      "metadata": {
        "id": "EmifD0CY_1ht"
      },
      "execution_count": null,
      "outputs": []
    },
    {
      "cell_type": "code",
      "source": [
        "#promedio notas del curso\n",
        "#calificaciones alumnos\n",
        "definitivas=pd.DataFrame(df,columns =['NOTAS DEFINITIVAS','NOTAS PARCIALES','CODIGO','NOMBRE','INVESTIGACION','TALLER','QUIZ','PARCIAL'])\n",
        "definitivas.head(30)\n"
      ],
      "metadata": {
        "id": "0Igtgsk87h-U"
      },
      "execution_count": null,
      "outputs": []
    },
    {
      "cell_type": "code",
      "source": [
        "df=pd.DataFrame(df)\n",
        "promedio=df['NOTAS PARCIALES'].mean()\n",
        "print(f'el promedio de las notas del curso es: {promedio}')"
      ],
      "metadata": {
        "id": "FvME13MEv20H"
      },
      "execution_count": null,
      "outputs": []
    },
    {
      "cell_type": "code",
      "source": [
        "#datos de NOTAS DEFINITIVAS\n",
        "df['NOTAS DEFINITIVAS'].unique()"
      ],
      "metadata": {
        "id": "UkEjhxRXqHFn"
      },
      "execution_count": null,
      "outputs": []
    },
    {
      "cell_type": "code",
      "source": [
        "# 10 priemros estudiantes con mejores notas del curso\n",
        "df=pd.DataFrame(df)\n",
        "df_sorted = df.sort_values(by='NOTAS PARCIALES', ascending=False).head(10)\n",
        "mejores=pd.DataFrame(df_sorted,columns=['CODIGO','NOMBRE','NOTAS PARCIALES'])\n",
        "mejores.head(30)"
      ],
      "metadata": {
        "id": "Uwk5toJv8Lqn"
      },
      "execution_count": null,
      "outputs": []
    },
    {
      "cell_type": "code",
      "source": [
        "# 5 ultimos estudiantes con peores notas del curso\n",
        "df=pd.DataFrame(df)\n",
        "df_sorted = df.sort_values(by='NOTAS PARCIALES', ascending=False).tail(5)\n",
        "peores=pd.DataFrame(df_sorted,columns=['CODIGO','NOMBRE','NOTAS PARCIALES'])\n",
        "peores.head(30)"
      ],
      "metadata": {
        "id": "3aSOKGiR9IcB"
      },
      "execution_count": null,
      "outputs": []
    },
    {
      "cell_type": "code",
      "source": [
        "#Estudiantes que aprobaron\n",
        "pasaron=df[df['NOTAS PARCIALES']>=3.5]\n",
        "df_pasaron=pd.DataFrame(pasaron,columns=['CODIGO','NOMBRE','NOTAS PARCIALES','NOTAS DEFINITIVAS'])\n",
        "df_pasaron.head(30)"
      ],
      "metadata": {
        "id": "0hSylbvMt8OW"
      },
      "execution_count": null,
      "outputs": []
    },
    {
      "cell_type": "code",
      "source": [
        "#Estudiantes que no aprobaron\n",
        "perdio=df[df['NOTAS PARCIALES']<3.5]\n",
        "df_perdieron=pd.DataFrame(perdio,columns=['CODIGO','NOMBRE','NOTAS PARCIALES','NOTAS DEFINITIVAS'])\n",
        "df_perdieron.head(30)\n"
      ],
      "metadata": {
        "id": "8_0JicPBzIpx"
      },
      "execution_count": null,
      "outputs": []
    },
    {
      "cell_type": "code",
      "source": [
        "x = [1,2]\n",
        "y = [(df['NOTAS PARCIALES'] >= 3.5).sum(),(df['NOTAS PARCIALES'] < 3.5).sum()]\n",
        "etiquetas = [\"Aprobaron\", \" No Aprobaron\"]\n",
        "colores=\"#00FF13\",\"#FFC100\"\n",
        "fig, ax = plt.subplots()\n",
        "ax.bar(x = x, height = y, tick_label = etiquetas,color=colores)"
      ],
      "metadata": {
        "id": "1w-WwtId7XlP"
      },
      "execution_count": null,
      "outputs": []
    },
    {
      "cell_type": "code",
      "source": [
        "#grafica estudiantes que aprobaron y no aprobaron\n",
        "from enum import auto\n",
        "\n",
        "conteo_variable=df['NOTAS DEFINITIVAS'].value_counts()\n",
        "etiquetas=df['NOTAS DEFINITIVAS'].unique()\n",
        "colores=\"#033DFF\",\"#FF0303\"\n",
        "extraccion=0,0.2\n",
        "plt.pie(conteo_variable,labels=etiquetas,autopct=\"%0.1f %%\",colors=colores,explode=extraccion)\n",
        "plt.show()\n",
        "\n",
        "\n"
      ],
      "metadata": {
        "id": "I5n6Hmmqpoc8"
      },
      "execution_count": null,
      "outputs": []
    }
  ]
}